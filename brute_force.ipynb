{
 "cells": [
  {
   "cell_type": "code",
   "execution_count": 30,
   "metadata": {},
   "outputs": [],
   "source": [
    "# %load BruteForceSolver.py\n",
    "class BruteForceSolver:\n",
    "    M=9\n",
    "    def __init__(self, grid) -> None:\n",
    "        self.grid = grid\n",
    "\n",
    "    def print_puzzle(self):\n",
    "        for i in range(BruteForceSolver.M):\n",
    "            for j in range(BruteForceSolver.M):\n",
    "                # print(\"i={},j={}\".format(i,j))\n",
    "                print(self.grid[i][j],end = \" \")\n",
    "            print()\n",
    "    def check(self,row, col, num):\n",
    "        for x in range(9):\n",
    "            if self.grid[row][x] == str(num):\n",
    "                return False\n",
    "                \n",
    "        for x in range(9):\n",
    "            if self.grid[x][col] == str(num):\n",
    "                return False\n",
    "    \n",
    "    \n",
    "        startRow = row - row % 3\n",
    "        startCol = col - col % 3\n",
    "        for i in range(3):\n",
    "            for j in range(3):\n",
    "                if self.grid[i + startRow][j + startCol] == str(num):\n",
    "                    return False\n",
    "        return True\n",
    "    def solve(self, row=0, col=0):\n",
    "    \n",
    "        if (row == BruteForceSolver.M - 1 and col == BruteForceSolver.M):\n",
    "            return True\n",
    "        if col == BruteForceSolver.M:\n",
    "            row += 1\n",
    "            col = 0\n",
    "\n",
    "        # print(\"row: {}, col: {}\".format(row, col))\n",
    "        if self.grid[row][col] != '0':\n",
    "            return self.solve(row, col + 1)\n",
    "        for num in range(1, BruteForceSolver.M + 1, 1): \n",
    "        \n",
    "            if self.check( row, col, num):\n",
    "            \n",
    "                self.grid[row][col] = str(num)\n",
    "                if self.solve(row, col + 1):\n",
    "                    return True\n",
    "            self.grid[row][col] = '0'\n",
    "        return False\n",
    " "
   ]
  },
  {
   "cell_type": "code",
   "execution_count": 32,
   "metadata": {},
   "outputs": [
    {
     "name": "stdout",
     "output_type": "stream",
     "text": [
      "5 4 6 1 3 9 7 8 2 \n",
      "2 1 3 7 8 5 6 9 4 \n",
      "7 9 8 4 2 6 5 1 3 \n",
      "1 2 5 3 7 4 9 6 8 \n",
      "6 8 7 2 9 1 3 4 5 \n",
      "4 3 9 6 5 8 1 2 7 \n",
      "3 5 1 8 6 2 4 7 9 \n",
      "8 7 4 9 1 3 2 5 6 \n",
      "9 6 2 5 4 7 8 3 1 \n",
      "CPU times: user 967 µs, sys: 54 µs, total: 1.02 ms\n",
      "Wall time: 983 µs\n"
     ]
    }
   ],
   "source": [
    "%%time\n",
    "grid = [['2', '5', '0', '0', '3', '0', '9', '0', '1'],\n",
    "        ['0', '1', '0', '0', '0', '4', '0', '0', '0'],\n",
    "        ['4', '0', '7', '0', '0', '0', '2', '0', '8'],\n",
    "        ['0', '0', '5', '2', '0', '0', '0', '0', '0'],\n",
    "        ['0', '0', '0', '0', '9', '8', '1', '0', '0'],\n",
    "        ['0', '4', '0', '0', '0', '3', '0', '0', '0'],\n",
    "        ['0', '0', '0', '3', '6', '0', '0', '7', '2'],\n",
    "        ['0', '7', '0', '0', '0', '0', '0', '0', '3'],\n",
    "        ['9', '0', '3', '0', '0', '0', '6', '0', '4']]\n",
    "\n",
    "grid1= [['5','4','0','0','3','9','0','0','2'],\n",
    "        ['2','1','3','7','8','5','6','9','4'],\n",
    "        ['7','0','0','4','2','0','5','0','3'],\n",
    "        ['1','2','5','0','7','0','0','6','8'],\n",
    "        ['6','0','7','2','0','0','3','0','5'],\n",
    "        ['4','3','0','0','5','0','0','2','7'],\n",
    "        ['3','5','1','8','6','2','0','0','9'],\n",
    "        ['8','7','4','0','0','0','2','5','6'],\n",
    "        ['9','6','2','5','4','7','8','3','1']]\n",
    "\n",
    "s=BruteForceSolver(grid1)\n",
    "s.solve()\n",
    " \n",
    "if (s.solve()):\n",
    "    s.print_puzzle()\n",
    "else:\n",
    "    print(\"Solution does not exist:(\")"
   ]
  }
 ],
 "metadata": {
  "kernelspec": {
   "display_name": "rsudoku_ray",
   "language": "python",
   "name": "python3"
  },
  "language_info": {
   "codemirror_mode": {
    "name": "ipython",
    "version": 3
   },
   "file_extension": ".py",
   "mimetype": "text/x-python",
   "name": "python",
   "nbconvert_exporter": "python",
   "pygments_lexer": "ipython3",
   "version": "3.11.7"
  }
 },
 "nbformat": 4,
 "nbformat_minor": 2
}
