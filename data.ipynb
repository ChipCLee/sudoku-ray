{
 "cells": [
  {
   "cell_type": "code",
   "execution_count": 4,
   "metadata": {},
   "outputs": [],
   "source": [
    "import pandas as pd\n",
    "import numpy as np"
   ]
  },
  {
   "cell_type": "code",
   "execution_count": 1,
   "metadata": {},
   "outputs": [
    {
     "name": "stderr",
     "output_type": "stream",
     "text": [
      "/var/folders/rk/34w_p7d95pl2jtrgpgfvyjvc0000gq/T/ipykernel_99898/2574314427.py:1: DeprecationWarning: \n",
      "Pyarrow will become a required dependency of pandas in the next major release of pandas (pandas 3.0),\n",
      "(to allow more performant data types, such as the Arrow string type, and better interoperability with other libraries)\n",
      "but was not found to be installed on your system.\n",
      "If this would cause problems for you,\n",
      "please provide us feedback at https://github.com/pandas-dev/pandas/issues/54466\n",
      "        \n",
      "  import pandas as pd\n"
     ]
    },
    {
     "name": "stdout",
     "output_type": "stream",
     "text": [
      "   id                                             puzzle  \\\n",
      "0   1  1..5.37..6.3..8.9......98...1.......8761.........   \n",
      "1   2  ...81.....2........1.9..7...7..25.934.2..........   \n",
      "2   3  ..5...74.3..6...19.....1..5...7...2.9....58..7...   \n",
      "3   4  ........5.2...9....9..2...373..481.....36....5...   \n",
      "4   5  .4.1..............653.....1.8.9..74...24..91.....   \n",
      "\n",
      "                                            solution  clues  difficulty  \n",
      "0  1985437266432785915276198439147352688761924352...     27         2.2  \n",
      "1  9348172567286534196159427381764258934523981673...     23         0.0  \n",
      "2  2159837463876542194692713855387169249413258677...     25         2.6  \n",
      "3  4738169256285397411954278637329481569413652785...     26         1.4  \n",
      "4  9471536821286493576532874913819267455724389164...     25         1.1  \n"
     ]
    }
   ],
   "source": [
    "df = pd.read_csv('sudoku-3m.csv')\n",
    "print(df.head())"
   ]
  },
  {
   "cell_type": "code",
   "execution_count": 34,
   "metadata": {},
   "outputs": [],
   "source": [
    "def getBlock(row, col, np_cells):\n",
    "    r = row//3\n",
    "    c = col//3\n",
    "    return np_cells[r*3:r*3+3, c*3:c*3+3].reshape(9)\n",
    "\n",
    "def getRow(row, np_cells):\n",
    "    return np_cells[row]\n",
    "\n",
    "def getCol(col, np_cells):\n",
    "    return np_cells[:, col]\n",
    "\n",
    "def calculate_s(row_index, col_index, np_cells):\n",
    "    row_index=row_index\n",
    "    col_index=col_index\n",
    "    row=getRow(row_index, np_cells)\n",
    "    col=getCol(col_index, np_cells)\n",
    "    block=getBlock(row_index, col_index, np_cells)\n",
    "    possibilities={i for i in \"123456789\"}\n",
    "    for i in row:\n",
    "        if i in possibilities:\n",
    "            possibilities.remove(i)\n",
    "    for j in col:\n",
    "        if j in possibilities:\n",
    "            possibilities.remove(j)\n",
    "    for k in block:\n",
    "        if k in possibilities:\n",
    "            possibilities.remove(k)\n",
    "    return (row_index, col_index, possibilities)\n",
    "\n",
    "\n",
    "def single_solve(np_cells):\n",
    "    changed=True\n",
    "    results=[]\n",
    "    iterations=0\n",
    "    print(np_cells)\n",
    "    while changed:\n",
    "        iterations+=1\n",
    "        changed=False\n",
    "        results=[]\n",
    "        for i in range(9):\n",
    "            for j in range(9):\n",
    "                if np_cells[i,j] == '.' :\n",
    "                    results.append(calculate_s(i,j,np_cells))\n",
    "\n",
    "\n",
    "        for x,y,s in results:\n",
    "            if len(s)==1:\n",
    "                np_cells[x,y]=next(iter(s))\n",
    "                changed=True\n",
    "        \n",
    "        # print(results)\n",
    "        # print(\"iterations:\", iterations)\n",
    "        # print(\"change:\", changed)\n",
    "\n",
    "    print(np_cells)\n",
    "\n"
   ]
  },
  {
   "cell_type": "code",
   "execution_count": 36,
   "metadata": {},
   "outputs": [
    {
     "ename": "ValueError",
     "evalue": "cannot reshape array of size 1 into shape (9,9)",
     "output_type": "error",
     "traceback": [
      "\u001b[0;31m---------------------------------------------------------------------------\u001b[0m",
      "\u001b[0;31mValueError\u001b[0m                                Traceback (most recent call last)",
      "Cell \u001b[0;32mIn[36], line 3\u001b[0m\n\u001b[1;32m      1\u001b[0m \u001b[38;5;28;01mfor\u001b[39;00m index, row \u001b[38;5;129;01min\u001b[39;00m df\u001b[38;5;241m.\u001b[39miterrows():\n\u001b[1;32m      2\u001b[0m     np_array\u001b[38;5;241m=\u001b[39mnp\u001b[38;5;241m.\u001b[39marray(row[\u001b[38;5;124m'\u001b[39m\u001b[38;5;124mpuzzle\u001b[39m\u001b[38;5;124m'\u001b[39m])\n\u001b[0;32m----> 3\u001b[0m     np_array_reshpe\u001b[38;5;241m=\u001b[39m\u001b[43mnp_array\u001b[49m\u001b[38;5;241;43m.\u001b[39;49m\u001b[43mreshape\u001b[49m\u001b[43m(\u001b[49m\u001b[38;5;241;43m9\u001b[39;49m\u001b[43m,\u001b[49m\u001b[38;5;241;43m9\u001b[39;49m\u001b[43m)\u001b[49m\n\u001b[1;32m      4\u001b[0m     single_solve(np_array_reshpe)\n",
      "\u001b[0;31mValueError\u001b[0m: cannot reshape array of size 1 into shape (9,9)"
     ]
    }
   ],
   "source": [
    "for index, row in df.iterrows():\n",
    "    np_array=np.array(list(row['puzzle']))\n",
    "    np_array_reshpe=np_array.reshape(9,9)\n",
    "    single_solve(np_array_reshpe)\n"
   ]
  },
  {
   "cell_type": "code",
   "execution_count": 35,
   "metadata": {},
   "outputs": [
    {
     "name": "stdout",
     "output_type": "stream",
     "text": [
      "[['1' '.' '.' '5' '.' '3' '7' '.' '6']\n",
      " ['6' '.' '3' '.' '.' '8' '.' '9' '.']\n",
      " ['.' '.' '.' '.' '.' '9' '8' '.' '.']\n",
      " ['.' '1' '.' '.' '.' '.' '.' '.' '.']\n",
      " ['8' '7' '6' '1' '.' '.' '.' '.' '.']\n",
      " ['.' '.' '.' '.' '.' '6' '.' '.' '.']\n",
      " ['.' '.' '.' '.' '.' '.' '9' '8' '7']\n",
      " ['.' '8' '.' '9' '.' '7' '6' '5' '4']\n",
      " ['7' '.' '.' '.' '6' '.' '3' '1' '2']]\n",
      "[(0, 1, {'2', '4', '9'}), (0, 2, {'2', '8', '4', '9'}), (0, 4, {'2', '4'}), (0, 7, {'2', '4'}), (1, 1, {'2', '4', '5'}), (1, 3, {'2', '4', '7'}), (1, 4, {'2', '4', '1', '7'}), (1, 6, {'2', '4', '1', '5'}), (1, 8, {'1', '5'}), (2, 0, {'2', '4', '5'}), (2, 1, {'2', '4', '5'}), (2, 2, {'2', '4', '7', '5'}), (2, 3, {'2', '6', '4', '7'}), (2, 4, {'2', '4', '1', '7'}), (2, 7, {'2', '4', '3'}), (2, 8, {'1', '3', '5'}), (3, 0, {'2', '4', '9', '3', '5'}), (3, 2, {'2', '4', '9', '5'}), (3, 3, {'2', '8', '4', '7', '3'}), (3, 4, {'2', '8', '4', '7', '9', '3', '5'}), (3, 5, {'2', '4', '5'}), (3, 6, {'2', '4', '5'}), (3, 7, {'2', '6', '4', '7', '3'}), (3, 8, {'8', '9', '3', '5'}), (4, 4, {'2', '4', '9', '3', '5'}), (4, 5, {'2', '4', '5'}), (4, 6, {'2', '4', '5'}), (4, 7, {'2', '4', '3'}), (4, 8, {'9', '3', '5'}), (5, 0, {'2', '4', '9', '3', '5'}), (5, 1, {'2', '4', '9', '3', '5'}), (5, 2, {'2', '4', '9', '5'}), (5, 3, {'2', '8', '4', '7', '3'}), (5, 4, {'2', '8', '4', '7', '9', '3', '5'}), (5, 6, {'2', '4', '1', '5'}), (5, 7, {'2', '4', '7', '3'}), (5, 8, {'8', '1', '9', '3', '5'}), (6, 0, {'2', '4', '3', '5'}), (6, 1, {'2', '6', '4', '3', '5'}), (6, 2, {'2', '4', '1', '5'}), (6, 3, {'2', '4', '3'}), (6, 4, {'2', '4', '1', '3', '5'}), (6, 5, {'2', '4', '1', '5'}), (7, 0, {'2', '3'}), (7, 2, {'2', '1'}), (7, 4, {'2', '1', '3'}), (8, 1, {'4', '9', '5'}), (8, 2, {'4', '9', '5'}), (8, 3, {'8', '4'}), (8, 5, {'4', '5'})]\n",
      "iterations: 1\n",
      "change: False\n",
      "[['1' '.' '.' '5' '.' '3' '7' '.' '6']\n",
      " ['6' '.' '3' '.' '.' '8' '.' '9' '.']\n",
      " ['.' '.' '.' '.' '.' '9' '8' '.' '.']\n",
      " ['.' '1' '.' '.' '.' '.' '.' '.' '.']\n",
      " ['8' '7' '6' '1' '.' '.' '.' '.' '.']\n",
      " ['.' '.' '.' '.' '.' '6' '.' '.' '.']\n",
      " ['.' '.' '.' '.' '.' '.' '9' '8' '7']\n",
      " ['.' '8' '.' '9' '.' '7' '6' '5' '4']\n",
      " ['7' '.' '.' '.' '6' '.' '3' '1' '2']]\n"
     ]
    }
   ],
   "source": []
  }
 ],
 "metadata": {
  "kernelspec": {
   "display_name": "rsudoku_ray",
   "language": "python",
   "name": "python3"
  },
  "language_info": {
   "codemirror_mode": {
    "name": "ipython",
    "version": 3
   },
   "file_extension": ".py",
   "mimetype": "text/x-python",
   "name": "python",
   "nbconvert_exporter": "python",
   "pygments_lexer": "ipython3",
   "version": "3.11.7"
  }
 },
 "nbformat": 4,
 "nbformat_minor": 2
}
