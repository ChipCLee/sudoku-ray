{
 "cells": [
  {
   "cell_type": "code",
   "execution_count": 154,
   "metadata": {},
   "outputs": [],
   "source": [
    "\n",
    "import logging\n",
    "logging.basicConfig()\n",
    "logger = logging.getLogger('')\n",
    "logger.setLevel(logging.INFO)\n",
    "\n",
    "logger.debug(\"debug\")"
   ]
  },
  {
   "cell_type": "code",
   "execution_count": 8,
   "metadata": {},
   "outputs": [],
   "source": [
    "from sudokux.solver.chip.utils import *\n",
    "from sudokux.solver.chip.chip_solver import *"
   ]
  },
  {
   "cell_type": "code",
   "execution_count": 9,
   "metadata": {},
   "outputs": [
    {
     "name": "stderr",
     "output_type": "stream",
     "text": [
      "test_Block (__main__.TestNotebook.test_Block) ... ok\n",
      "test_Col (__main__.TestNotebook.test_Col) ... ok\n",
      "test_Row (__main__.TestNotebook.test_Row) ... ok\n",
      "test_calculate_possibilitie (__main__.TestNotebook.test_calculate_possibilitie) ... ok\n",
      "test_getBlock (__main__.TestNotebook.test_getBlock) ... ok\n",
      "test_getBlockIndex (__main__.TestNotebook.test_getBlockIndex) ... ok\n",
      "test_getBlockList (__main__.TestNotebook.test_getBlockList) ... ok\n",
      "test_getCol (__main__.TestNotebook.test_getCol) ... ok\n",
      "test_getPuzzle (__main__.TestNotebook.test_getPuzzle) ... ok\n",
      "test_getRow (__main__.TestNotebook.test_getRow) ... ok\n",
      "test_solved (__main__.TestNotebook.test_solved) ... ok\n",
      "test_unsolved (__main__.TestNotebook.test_unsolved) ... ok\n",
      "\n",
      "----------------------------------------------------------------------\n",
      "Ran 12 tests in 0.012s\n",
      "\n",
      "OK\n"
     ]
    },
    {
     "data": {
      "text/plain": [
       "<unittest.main.TestProgram at 0x112d2b150>"
      ]
     },
     "execution_count": 9,
     "metadata": {},
     "output_type": "execute_result"
    }
   ],
   "source": [
    "import unittest\n",
    "\n",
    "logger.setLevel(logging.INFO)\n",
    "puzzle_str='070000043040009610800634900094052000358460020000800530080070091902100005007040802'\n",
    "puzzle=getPuzzle(puzzle_str)\n",
    "solution_str='679518243543729618821634957794352186358461729216897534485276391962183475137945862'\n",
    "solution=getPuzzle(solution_str)\n",
    "\n",
    "row=Row(0,puzzle)\n",
    "class TestNotebook(unittest.TestCase):\n",
    "\n",
    "    def test_getPuzzle(self):\n",
    "        expected=np.array(\n",
    "        [['0', '7', '0', '0', '0', '0', '0', '4', '3'],\n",
    "        ['0', '4', '0', '0', '0', '9', '6', '1', '0'],\n",
    "        ['8', '0', '0', '6', '3', '4', '9', '0', '0'],\n",
    "        ['0', '9', '4', '0', '5', '2', '0', '0', '0'],\n",
    "        ['3', '5', '8', '4', '6', '0', '0', '2', '0'],\n",
    "        ['0', '0', '0', '8', '0', '0', '5', '3', '0'],\n",
    "        ['0', '8', '0', '0', '7', '0', '0', '9', '1'],\n",
    "        ['9', '0', '2', '1', '0', '0', '0', '0', '5'],\n",
    "        ['0', '0', '7', '0', '4', '0', '8', '0', '2']])\n",
    "        \n",
    "        self.assertTrue(np.array_equal(puzzle,expected))\n",
    "\n",
    "    def test_solved(self):\n",
    "        self.assertEqual(isSolved(puzzle),False)\n",
    "\n",
    "    def test_unsolved(self):\n",
    "        self.assertEqual(isSolved(solution),True)\n",
    "\n",
    "    def test_getBlockIndex(self):\n",
    "        self.assertEqual(getBlockIndex(8,8),(2,2))\n",
    "\n",
    "    def test_getBlock(self):\n",
    "        expected=np.array(\n",
    "            [['0','0','0'],\n",
    "            ['0','2','0'],\n",
    "            ['5','3','0']])\n",
    "        result=getBlock(1,2,puzzle)\n",
    "        self.assertTrue(np.array_equal(result,expected))\n",
    "\n",
    "    def test_getBlockList(self):\n",
    "        expected=np.array(['0','0','0','0','2','0','5','3','0'])\n",
    "        result=getBlockList(1,2,puzzle)\n",
    "        self.assertTrue(np.array_equal(result,expected))\n",
    "\n",
    "    def test_getRow(self):\n",
    "        expected=np.array(['0', '4', '0', '0', '0', '9', '6', '1', '0'])\n",
    "        result=getRow(1,puzzle)\n",
    "        self.assertTrue(np.array_equal(result,expected))\n",
    "\n",
    "    def test_getCol(self):\n",
    "        expected=np.array(['0','0','0','4','8','0','0','2','7'])\n",
    "        \n",
    "        result=getCol(2,puzzle)\n",
    "        logger.debug(result)\n",
    "        self.assertTrue(np.array_equal(result,expected))\n",
    "\n",
    "    def test_getCol(self):\n",
    "        expected=np.array(['0','0','0','4','8','0','0','2','7'])\n",
    "        \n",
    "        result=getCol(2,puzzle)\n",
    "        logger.debug(result)\n",
    "        self.assertTrue(np.array_equal(result,expected))\n",
    "\n",
    "    def test_calculate_possibilitie(self):\n",
    "        expected={'1','2','5','6'}\n",
    "        \n",
    "        result=calculate_possibilitie(0,0,puzzle)\n",
    "        logger.debug(result)\n",
    "        self.assertTrue(np.array_equal(result[2],expected))\n",
    "    def test_Block(self):\n",
    "        expected={'1','2','5','6','9','3'}\n",
    "        block=Block(0,0,puzzle)\n",
    "        keys=block.missings_map.keys()\n",
    "        logger.debug(\"keys: {}\".format(keys))\n",
    "        # print(\"len: {}, result: {}\".format(len(result),result))\n",
    "        self.assertTrue(keys,expected)\n",
    "    def test_Row(self):\n",
    "        expected={'1','2','5','6','9','3'}\n",
    "        row=Row(0,puzzle)\n",
    "        keys=row.missings_map.keys()\n",
    "        logger.debug(\"keys: {}\".format(keys))\n",
    "        # print(\"len: {}, result: {}\".format(len(result),result))\n",
    "        self.assertTrue(keys,expected)\n",
    "    def test_Col(self):\n",
    "        expected={'1','2','3','6'}\n",
    "        col=Col(1,puzzle)\n",
    "        keys=col.missings_map.keys()\n",
    "        logger.debug(\"keys: {}\".format(keys))\n",
    "        # print(\"len: {}, result: {}\".format(len(result),result))\n",
    "        self.assertTrue(keys,expected)\n",
    "\n",
    "unittest.main(argv=[''], verbosity=2, exit=False)"
   ]
  },
  {
   "cell_type": "code",
   "execution_count": 10,
   "metadata": {},
   "outputs": [],
   "source": [
    "df = pd.read_csv(\"./data/sudoku.csv\")"
   ]
  },
  {
   "cell_type": "code",
   "execution_count": 11,
   "metadata": {},
   "outputs": [
    {
     "data": {
      "text/plain": [
       "array([['0', '7', '0', '0', '0', '0', '0', '4', '3'],\n",
       "       ['0', '4', '0', '0', '0', '9', '6', '1', '0'],\n",
       "       ['8', '0', '0', '6', '3', '4', '9', '0', '0'],\n",
       "       ['0', '9', '4', '0', '5', '2', '0', '0', '0'],\n",
       "       ['3', '5', '8', '4', '6', '0', '0', '2', '0'],\n",
       "       ['0', '0', '0', '8', '0', '0', '5', '3', '0'],\n",
       "       ['0', '8', '0', '0', '7', '0', '0', '9', '1'],\n",
       "       ['9', '0', '2', '1', '0', '0', '0', '0', '5'],\n",
       "       ['0', '0', '7', '0', '4', '0', '8', '0', '2']], dtype='<U1')"
      ]
     },
     "execution_count": 11,
     "metadata": {},
     "output_type": "execute_result"
    }
   ],
   "source": [
    "np_cells=np.array(list(puzzle_str)).reshape(9,9)\n",
    "np_cells"
   ]
  },
  {
   "cell_type": "code",
   "execution_count": 159,
   "metadata": {},
   "outputs": [
    {
     "name": "stdout",
     "output_type": "stream",
     "text": [
      "[['6' '7' '9' '5' '1' '8' '2' '4' '3']\n",
      " ['5' '4' '3' '7' '2' '9' '6' '1' '8']\n",
      " ['8' '2' '1' '6' '3' '4' '9' '5' '7']\n",
      " ['7' '9' '4' '3' '5' '2' '1' '8' '6']\n",
      " ['3' '5' '8' '4' '6' '1' '7' '2' '9']\n",
      " ['2' '1' '6' '8' '9' '7' '5' '3' '4']\n",
      " ['4' '8' '5' '2' '7' '6' '3' '9' '1']\n",
      " ['9' '6' '2' '1' '8' '3' '4' '7' '5']\n",
      " ['1' '3' '7' '9' '4' '5' '8' '6' '2']]\n"
     ]
    }
   ],
   "source": [
    "np_cells=np.array(list(puzzle_str)).reshape(9,9)\n",
    "single_solve(np_cells)\n",
    "print(np_cells)"
   ]
  },
  {
   "cell_type": "code",
   "execution_count": 12,
   "metadata": {},
   "outputs": [
    {
     "name": "stdout",
     "output_type": "stream",
     "text": [
      "Not solve: [['8' '6' '2' '3' '0' '9' '0' '0' '1']\n",
      " ['5' '1' '3' '8' '2' '0' '0' '9' '0']\n",
      " ['7' '9' '4' '1' '5' '6' '2' '8' '3']\n",
      " ['1' '5' '8' '0' '0' '0' '0' '0' '9']\n",
      " ['3' '7' '9' '5' '1' '8' '0' '0' '2']\n",
      " ['2' '4' '6' '7' '9' '3' '8' '1' '5']\n",
      " ['6' '2' '5' '4' '0' '1' '9' '0' '8']\n",
      " ['9' '3' '7' '0' '8' '5' '1' '0' '4']\n",
      " ['4' '8' '1' '9' '0' '0' '0' '0' '0']]\n",
      "Not solve: [['5' '4' '0' '0' '3' '9' '0' '0' '2']\n",
      " ['2' '1' '3' '7' '8' '5' '6' '9' '4']\n",
      " ['7' '0' '0' '4' '2' '0' '5' '0' '3']\n",
      " ['1' '2' '5' '0' '7' '0' '0' '6' '8']\n",
      " ['6' '0' '7' '2' '0' '0' '3' '0' '5']\n",
      " ['4' '3' '0' '0' '5' '0' '0' '2' '7']\n",
      " ['3' '5' '1' '8' '6' '2' '0' '0' '9']\n",
      " ['8' '7' '4' '0' '0' '0' '2' '5' '6']\n",
      " ['9' '6' '2' '5' '4' '7' '8' '3' '1']]\n",
      "Not solve: [['5' '4' '8' '6' '9' '1' '7' '3' '2']\n",
      " ['0' '1' '0' '3' '8' '4' '5' '6' '9']\n",
      " ['9' '3' '6' '0' '0' '2' '1' '4' '8']\n",
      " ['4' '0' '5' '0' '6' '9' '3' '2' '0']\n",
      " ['3' '2' '9' '0' '4' '5' '8' '0' '6']\n",
      " ['0' '6' '1' '0' '2' '3' '9' '5' '4']\n",
      " ['0' '0' '0' '0' '1' '0' '6' '0' '0']\n",
      " ['1' '0' '0' '0' '0' '6' '4' '8' '0']\n",
      " ['6' '5' '0' '0' '3' '0' '2' '0' '0']]\n",
      "Solved: 98\n"
     ]
    }
   ],
   "source": [
    "tests=df['puzzle'].loc[300:400]\n",
    "solved=0\n",
    "for t in tests:\n",
    "    np_cells=np.array(list(t)).reshape(9,9)\n",
    "    if not single_solve(np_cells):\n",
    "        print(\"Not solve: {}\".format(np_cells))\n",
    "    else:\n",
    "        solved+=1\n",
    "\n",
    "print(\"Solved: {}\".format(solved))"
   ]
  }
 ],
 "metadata": {
  "kernelspec": {
   "display_name": "sudoku",
   "language": "python",
   "name": "python3"
  },
  "language_info": {
   "codemirror_mode": {
    "name": "ipython",
    "version": 3
   },
   "file_extension": ".py",
   "mimetype": "text/x-python",
   "name": "python",
   "nbconvert_exporter": "python",
   "pygments_lexer": "ipython3",
   "version": "3.11.7"
  },
  "orig_nbformat": 4
 },
 "nbformat": 4,
 "nbformat_minor": 2
}
