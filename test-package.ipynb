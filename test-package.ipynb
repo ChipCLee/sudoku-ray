{
 "cells": [
  {
   "cell_type": "code",
   "execution_count": 16,
   "metadata": {},
   "outputs": [],
   "source": [
    "from sudokux.solver.chip.utils import getPuzzle"
   ]
  },
  {
   "cell_type": "code",
   "execution_count": null,
   "metadata": {},
   "outputs": [],
   "source": [
    "puzzle_str='070000043040009610800634900094052000358460020000800530080070091902100005007040802'\n",
    "puzzle=getPuzzle(puzzle_str)"
   ]
  }
 ],
 "metadata": {
  "kernelspec": {
   "display_name": "rsudoku_ray",
   "language": "python",
   "name": "python3"
  },
  "language_info": {
   "codemirror_mode": {
    "name": "ipython",
    "version": 3
   },
   "file_extension": ".py",
   "mimetype": "text/x-python",
   "name": "python",
   "nbconvert_exporter": "python",
   "pygments_lexer": "ipython3",
   "version": "3.11.7"
  }
 },
 "nbformat": 4,
 "nbformat_minor": 2
}
